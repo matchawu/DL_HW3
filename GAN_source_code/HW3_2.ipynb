{
 "cells": [
  {
   "cell_type": "code",
   "execution_count": 1,
   "metadata": {},
   "outputs": [],
   "source": [
    "import os\n",
    "os.environ['CUDA_VISIBLE_DIVICES'] = '1'"
   ]
  },
  {
   "cell_type": "code",
   "execution_count": 2,
   "metadata": {},
   "outputs": [
    {
     "output_type": "execute_result",
     "data": {
      "text/plain": "device(type='cuda', index=0)"
     },
     "metadata": {},
     "execution_count": 2
    }
   ],
   "source": [
    "import torch\n",
    "device = torch.device(\"cuda:0\" if (torch.cuda.is_available() and 1 > 0) else \"cpu\")\n",
    "device"
   ]
  },
  {
   "cell_type": "code",
   "execution_count": 4,
   "metadata": {},
   "outputs": [
    {
     "output_type": "execute_result",
     "data": {
      "text/plain": "False"
     },
     "metadata": {},
     "execution_count": 4
    }
   ],
   "source": [
    "torch.cuda.is_available()"
   ]
  },
  {
   "cell_type": "code",
   "execution_count": 3,
   "metadata": {
    "tags": []
   },
   "outputs": [
    {
     "output_type": "stream",
     "name": "stdout",
     "text": "[Info] Create directory result!\n"
    }
   ],
   "source": [
    "if not os.path.exists(\"./result/\"):\n",
    "    os.makedirs(\"./result/\")\n",
    "    print(\"[Info] Create directory result!\")"
   ]
  },
  {
   "cell_type": "code",
   "execution_count": 4,
   "metadata": {
    "tags": []
   },
   "outputs": [
    {
     "output_type": "stream",
     "name": "stdout",
     "text": "[Info] Create directory result/train!\n"
    }
   ],
   "source": [
    "if not os.path.exists(\"./result/train\"):\n",
    "    os.makedirs(\"./result/train\")\n",
    "    print(\"[Info] Create directory result/train!\")"
   ]
  },
  {
   "cell_type": "code",
   "execution_count": 4,
   "metadata": {
    "tags": []
   },
   "outputs": [
    {
     "output_type": "stream",
     "name": "stdout",
     "text": "Sat Jun 20 18:35:49 2020       \n+-----------------------------------------------------------------------------+\n| NVIDIA-SMI 451.22       Driver Version: 451.22       CUDA Version: 11.0     |\n|-------------------------------+----------------------+----------------------+\n| GPU  Name            TCC/WDDM | Bus-Id        Disp.A | Volatile Uncorr. ECC |\n| Fan  Temp  Perf  Pwr:Usage/Cap|         Memory-Usage | GPU-Util  Compute M. |\n|===============================+======================+======================|\n|   0  GeForce GTX 1050   WDDM  | 00000000:01:00.0  On |                  N/A |\n| 35%   59C    P0    N/A /  75W |   1845MiB /  2048MiB |     99%      Default |\n+-------------------------------+----------------------+----------------------+\n                                                                               \n+-----------------------------------------------------------------------------+\n| Processes:                                                                  |\n|  GPU   GI   CI        PID   Type   Process name                  GPU Memory |\n|        ID   ID                                                   Usage      |\n|=============================================================================|\n|    0   N/A  N/A      1552    C+G   Insufficient Permissions        N/A      |\n|    0   N/A  N/A      2860    C+G   ...es.TextInput.InputApp.exe    N/A      |\n|    0   N/A  N/A      3976    C+G   ...icrosoft VS Code\\Code.exe    N/A      |\n|    0   N/A  N/A      8548    C+G   C:\\Windows\\explorer.exe         N/A      |\n|    0   N/A  N/A      8852    C+G   ...ekyb3d8bbwe\\YourPhone.exe    N/A      |\n|    0   N/A  N/A     10276    C+G   ...lPanel\\SystemSettings.exe    N/A      |\n|    0   N/A  N/A     10464    C+G   ...8bbwe\\Microsoft.Notes.exe    N/A      |\n|    0   N/A  N/A     10616    C+G   ...perience\\NVIDIA Share.exe    N/A      |\n|    0   N/A  N/A     10828    C+G   ...in7x64\\steamwebhelper.exe    N/A      |\n|    0   N/A  N/A     11432    C+G   ...w5n1h2txyewy\\SearchUI.exe    N/A      |\n|    0   N/A  N/A     11588    C+G   ...zf8qxf38zg5c\\SkypeApp.exe    N/A      |\n|    0   N/A  N/A     13364    C+G   ...kyb3d8bbwe\\Calculator.exe    N/A      |\n|    0   N/A  N/A     17104    C+G   ...memBear\\RememBear.App.exe    N/A      |\n|    0   N/A  N/A     17820    C+G   ...he8kybcnzg4\\app\\Slack.exe    N/A      |\n|    0   N/A  N/A     19112    C+G   ...me\\Application\\chrome.exe    N/A      |\n|    0   N/A  N/A     19440      C   C:\\Python38\\python.exe          N/A      |\n+-----------------------------------------------------------------------------+\n"
    }
   ],
   "source": [
    "!nvidia-smi"
   ]
  },
  {
   "cell_type": "code",
   "execution_count": null,
   "metadata": {},
   "outputs": [],
   "source": []
  }
 ],
 "metadata": {
  "language_info": {
   "codemirror_mode": {
    "name": "ipython",
    "version": 3
   },
   "file_extension": ".py",
   "mimetype": "text/x-python",
   "name": "python",
   "nbconvert_exporter": "python",
   "pygments_lexer": "ipython3",
   "version": "3.8.2-final"
  },
  "orig_nbformat": 2,
  "kernelspec": {
   "name": "python38264bit80e5783b53564d659ac8b5891bf20cfd",
   "display_name": "Python 3.8.2 64-bit"
  }
 },
 "nbformat": 4,
 "nbformat_minor": 2
}